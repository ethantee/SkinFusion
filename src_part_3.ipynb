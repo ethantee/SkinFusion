{
 "cells": [
  {
   "cell_type": "markdown",
   "metadata": {},
   "source": [
    "# **1.0 Initial Setup**"
   ]
  },
  {
   "cell_type": "code",
   "execution_count": 1,
   "metadata": {},
   "outputs": [
    {
     "name": "stderr",
     "output_type": "stream",
     "text": [
      "[nltk_data] Downloading package punkt to\n",
      "[nltk_data]     C:\\Users\\ethan\\AppData\\Roaming\\nltk_data...\n",
      "[nltk_data]   Package punkt is already up-to-date!\n",
      "[nltk_data] Downloading package stopwords to\n",
      "[nltk_data]     C:\\Users\\ethan\\AppData\\Roaming\\nltk_data...\n",
      "[nltk_data]   Package stopwords is already up-to-date!\n"
     ]
    }
   ],
   "source": [
    "# Import the necessary libraries\n",
    "import nltk\n",
    "import numpy as np\n",
    "import pandas as pd\n",
    "import re\n",
    "\n",
    "from datetime import datetime\n",
    "from joblib import Parallel, delayed\n",
    "from nltk.corpus import stopwords\n",
    "from nltk.tokenize import word_tokenize\n",
    "\n",
    "# Download the stopwords and create a set of English stopwords\n",
    "nltk.download(\"punkt\")\n",
    "nltk.download(\"stopwords\")\n",
    "stop_words = set(stopwords.words(\"english\"))\n",
    "\n",
    "# Configurations\n",
    "pd.set_option(\"display.max_colwidth\", 100)\n",
    "start_time = datetime.now()\n"
   ]
  },
  {
   "cell_type": "markdown",
   "metadata": {},
   "source": [
    "# **2.0 Load Data**"
   ]
  },
  {
   "cell_type": "code",
   "execution_count": 2,
   "metadata": {},
   "outputs": [],
   "source": [
    "# Load the skincare_reviews dataset\n",
    "skincare_reviews = pd.read_csv(\"processed_data/skincare_reviews_calibrated.csv\", encoding=\"utf-8\", low_memory=False)\n",
    "\n",
    "# Drop the unwanted columns (as I have the calibrated_author_rating column already)\n",
    "skincare_reviews = skincare_reviews.drop([\"author_rating\", \"adjusted_author_rating\"], axis=1)\n"
   ]
  },
  {
   "cell_type": "code",
   "execution_count": 3,
   "metadata": {},
   "outputs": [
    {
     "data": {
      "text/html": [
       "<div>\n",
       "<style scoped>\n",
       "    .dataframe tbody tr th:only-of-type {\n",
       "        vertical-align: middle;\n",
       "    }\n",
       "\n",
       "    .dataframe tbody tr th {\n",
       "        vertical-align: top;\n",
       "    }\n",
       "\n",
       "    .dataframe thead th {\n",
       "        text-align: right;\n",
       "    }\n",
       "</style>\n",
       "<table border=\"1\" class=\"dataframe\">\n",
       "  <thead>\n",
       "    <tr style=\"text-align: right;\">\n",
       "      <th></th>\n",
       "      <th>0</th>\n",
       "      <th>1</th>\n",
       "      <th>2</th>\n",
       "      <th>3</th>\n",
       "      <th>4</th>\n",
       "    </tr>\n",
       "  </thead>\n",
       "  <tbody>\n",
       "    <tr>\n",
       "      <th>product_id</th>\n",
       "      <td>P503052</td>\n",
       "      <td>P423688</td>\n",
       "      <td>P504045</td>\n",
       "      <td>P479125</td>\n",
       "      <td>P440650</td>\n",
       "    </tr>\n",
       "    <tr>\n",
       "      <th>product_name</th>\n",
       "      <td>Mini Flatter Me Digestive Enzyme Supplement</td>\n",
       "      <td>Daily Microfoliant Exfoliator</td>\n",
       "      <td>Daily Dose Bioretinol + Mineral SPF 40 with Bakuchiol</td>\n",
       "      <td>Mini Cloud Dew Oil-Free Gel Cream</td>\n",
       "      <td>Mini Retinol Youth Renewal Serum</td>\n",
       "    </tr>\n",
       "    <tr>\n",
       "      <th>brand_name</th>\n",
       "      <td>HUM Nutrition</td>\n",
       "      <td>Dermalogica</td>\n",
       "      <td>Supergoop!</td>\n",
       "      <td>Summer Fridays</td>\n",
       "      <td>Murad</td>\n",
       "    </tr>\n",
       "    <tr>\n",
       "      <th>average_rating</th>\n",
       "      <td>4.2643</td>\n",
       "      <td>4.696</td>\n",
       "      <td>4.7357</td>\n",
       "      <td>4.4613</td>\n",
       "      <td>4.6089</td>\n",
       "    </tr>\n",
       "    <tr>\n",
       "      <th>ingredients</th>\n",
       "      <td>['Protease 3.0, Protease 4.5, Protease 6.0, Peptidase, Bromelain, Neutral Bacterial Protease, Pa...</td>\n",
       "      <td>['Microcrystalline Cellulose, Magnesium Oxide, Sodium Cocoyl Isethionate, Colloidal Oatmeal, Dis...</td>\n",
       "      <td>['Aqua/Water/Eau, Dicaprylyl Ether, Caprylic/Capric Triglyceride, Butyloctyl Salicylate, Polygly...</td>\n",
       "      <td>['Water/Aqua/Eau, Propanediol, Dicaprylyl Carbonate, Glycerin, Pentylene Glycol, Sodium Hyaluron...</td>\n",
       "      <td>['Water/Aqua/Eau, Cyclopentasiloxane, Isopropyl Palmitate, C14-22 Alcohols, Polymethylsilsesquio...</td>\n",
       "    </tr>\n",
       "    <tr>\n",
       "      <th>price_usd</th>\n",
       "      <td>15.0</td>\n",
       "      <td>65.0</td>\n",
       "      <td>46.0</td>\n",
       "      <td>17.0</td>\n",
       "      <td>32.0</td>\n",
       "    </tr>\n",
       "    <tr>\n",
       "      <th>limited_edition</th>\n",
       "      <td>na</td>\n",
       "      <td>na</td>\n",
       "      <td>na</td>\n",
       "      <td>na</td>\n",
       "      <td>na</td>\n",
       "    </tr>\n",
       "    <tr>\n",
       "      <th>highlights</th>\n",
       "      <td>['Vegan', 'Clean at Sephora', 'Without Phthalates', 'Without Parabens', 'Gluten Free']</td>\n",
       "      <td>['Vegan', 'Good for: Dullness/Uneven Texture', 'allure 2019 Best of Beauty Award Winner', 'Salic...</td>\n",
       "      <td>['Good for: Dullness/Uneven Texture', 'Good for: Loss of firmness', 'Clean at Sephora', 'Retinol...</td>\n",
       "      <td>['Best for Normal Skin', 'Plumping', 'Hydrating', 'Clean at Sephora', 'Good for: Dryness']</td>\n",
       "      <td>['Good for: Dark Circles', 'Good for: Anti-Aging', 'Retinol', 'Without Parabens', 'Gluten Free',...</td>\n",
       "    </tr>\n",
       "    <tr>\n",
       "      <th>secondary_category</th>\n",
       "      <td>Wellness</td>\n",
       "      <td>Cleansers</td>\n",
       "      <td>Treatments</td>\n",
       "      <td>Moisturizers</td>\n",
       "      <td>Mini Size</td>\n",
       "    </tr>\n",
       "    <tr>\n",
       "      <th>tertiary_category</th>\n",
       "      <td>Beauty Supplements</td>\n",
       "      <td>Exfoliators</td>\n",
       "      <td>Face Serums</td>\n",
       "      <td>Moisturizers</td>\n",
       "      <td>na</td>\n",
       "    </tr>\n",
       "    <tr>\n",
       "      <th>author_id</th>\n",
       "      <td>27517179462</td>\n",
       "      <td>11109420515</td>\n",
       "      <td>22705593305</td>\n",
       "      <td>20430950197</td>\n",
       "      <td>5967382859</td>\n",
       "    </tr>\n",
       "    <tr>\n",
       "      <th>calibrated_author_rating</th>\n",
       "      <td>5.0</td>\n",
       "      <td>5.0</td>\n",
       "      <td>5.0</td>\n",
       "      <td>5.0</td>\n",
       "      <td>5.0</td>\n",
       "    </tr>\n",
       "  </tbody>\n",
       "</table>\n",
       "</div>"
      ],
      "text/plain": [
       "                                                                                                                            0  \\\n",
       "product_id                                                                                                            P503052   \n",
       "product_name                                                                      Mini Flatter Me Digestive Enzyme Supplement   \n",
       "brand_name                                                                                                      HUM Nutrition   \n",
       "average_rating                                                                                                         4.2643   \n",
       "ingredients               ['Protease 3.0, Protease 4.5, Protease 6.0, Peptidase, Bromelain, Neutral Bacterial Protease, Pa...   \n",
       "price_usd                                                                                                                15.0   \n",
       "limited_edition                                                                                                            na   \n",
       "highlights                             ['Vegan', 'Clean at Sephora', 'Without Phthalates', 'Without Parabens', 'Gluten Free']   \n",
       "secondary_category                                                                                                   Wellness   \n",
       "tertiary_category                                                                                          Beauty Supplements   \n",
       "author_id                                                                                                         27517179462   \n",
       "calibrated_author_rating                                                                                                  5.0   \n",
       "\n",
       "                                                                                                                            1  \\\n",
       "product_id                                                                                                            P423688   \n",
       "product_name                                                                                    Daily Microfoliant Exfoliator   \n",
       "brand_name                                                                                                        Dermalogica   \n",
       "average_rating                                                                                                          4.696   \n",
       "ingredients               ['Microcrystalline Cellulose, Magnesium Oxide, Sodium Cocoyl Isethionate, Colloidal Oatmeal, Dis...   \n",
       "price_usd                                                                                                                65.0   \n",
       "limited_edition                                                                                                            na   \n",
       "highlights                ['Vegan', 'Good for: Dullness/Uneven Texture', 'allure 2019 Best of Beauty Award Winner', 'Salic...   \n",
       "secondary_category                                                                                                  Cleansers   \n",
       "tertiary_category                                                                                                 Exfoliators   \n",
       "author_id                                                                                                         11109420515   \n",
       "calibrated_author_rating                                                                                                  5.0   \n",
       "\n",
       "                                                                                                                            2  \\\n",
       "product_id                                                                                                            P504045   \n",
       "product_name                                                            Daily Dose Bioretinol + Mineral SPF 40 with Bakuchiol   \n",
       "brand_name                                                                                                         Supergoop!   \n",
       "average_rating                                                                                                         4.7357   \n",
       "ingredients               ['Aqua/Water/Eau, Dicaprylyl Ether, Caprylic/Capric Triglyceride, Butyloctyl Salicylate, Polygly...   \n",
       "price_usd                                                                                                                46.0   \n",
       "limited_edition                                                                                                            na   \n",
       "highlights                ['Good for: Dullness/Uneven Texture', 'Good for: Loss of firmness', 'Clean at Sephora', 'Retinol...   \n",
       "secondary_category                                                                                                 Treatments   \n",
       "tertiary_category                                                                                                 Face Serums   \n",
       "author_id                                                                                                         22705593305   \n",
       "calibrated_author_rating                                                                                                  5.0   \n",
       "\n",
       "                                                                                                                            3  \\\n",
       "product_id                                                                                                            P479125   \n",
       "product_name                                                                                Mini Cloud Dew Oil-Free Gel Cream   \n",
       "brand_name                                                                                                     Summer Fridays   \n",
       "average_rating                                                                                                         4.4613   \n",
       "ingredients               ['Water/Aqua/Eau, Propanediol, Dicaprylyl Carbonate, Glycerin, Pentylene Glycol, Sodium Hyaluron...   \n",
       "price_usd                                                                                                                17.0   \n",
       "limited_edition                                                                                                            na   \n",
       "highlights                         ['Best for Normal Skin', 'Plumping', 'Hydrating', 'Clean at Sephora', 'Good for: Dryness']   \n",
       "secondary_category                                                                                               Moisturizers   \n",
       "tertiary_category                                                                                                Moisturizers   \n",
       "author_id                                                                                                         20430950197   \n",
       "calibrated_author_rating                                                                                                  5.0   \n",
       "\n",
       "                                                                                                                            4  \n",
       "product_id                                                                                                            P440650  \n",
       "product_name                                                                                 Mini Retinol Youth Renewal Serum  \n",
       "brand_name                                                                                                              Murad  \n",
       "average_rating                                                                                                         4.6089  \n",
       "ingredients               ['Water/Aqua/Eau, Cyclopentasiloxane, Isopropyl Palmitate, C14-22 Alcohols, Polymethylsilsesquio...  \n",
       "price_usd                                                                                                                32.0  \n",
       "limited_edition                                                                                                            na  \n",
       "highlights                ['Good for: Dark Circles', 'Good for: Anti-Aging', 'Retinol', 'Without Parabens', 'Gluten Free',...  \n",
       "secondary_category                                                                                                  Mini Size  \n",
       "tertiary_category                                                                                                          na  \n",
       "author_id                                                                                                          5967382859  \n",
       "calibrated_author_rating                                                                                                  5.0  "
      ]
     },
     "execution_count": 3,
     "metadata": {},
     "output_type": "execute_result"
    }
   ],
   "source": [
    "# Display the first 5 rows of skincare_reviews\n",
    "skincare_reviews.head().transpose()\n"
   ]
  },
  {
   "cell_type": "markdown",
   "metadata": {},
   "source": [
    "**Note:** Data information is displayed for quick overview."
   ]
  },
  {
   "cell_type": "code",
   "execution_count": 4,
   "metadata": {},
   "outputs": [
    {
     "data": {
      "text/plain": [
       "limited_edition\n",
       "na                 50707\n",
       "limited-edition      353\n",
       "Name: count, dtype: int64"
      ]
     },
     "execution_count": 4,
     "metadata": {},
     "output_type": "execute_result"
    }
   ],
   "source": [
    "# Display the value counts of the limited_edition column\n",
    "skincare_reviews[\"limited_edition\"].value_counts()\n"
   ]
  },
  {
   "cell_type": "code",
   "execution_count": 5,
   "metadata": {},
   "outputs": [
    {
     "data": {
      "text/plain": [
       "ingredients\n",
       "['Microcrystalline Cellulose, Magnesium Oxide, Sodium Cocoyl Isethionate, Colloidal Oatmeal, Disodium Lauryl Sulfosuccinate, Sodium Lauroyl Glutamate, Oryza Sativa (Rice) Bran Extract, Oryza Sativa (Rice) Starch, Hydrogenated Coconut Acid, Allantoin, Papain, Salicylic Acid, Ginkgo Biloba Leaf Extract, Camellia Sinensis Leaf Extract, Glycyrrhiza Glabra (Licorice) Root Extract, PCA, Populus Tremuloides Bark Extract, Cyclodextrin, Sodium Isethionate, Lauryl Methacrylate/Glycol Dimethacrylate Copolymer, Maltodextrin, Melaleuca, Alternifolia (Tea Tree) Leaf Oil, Citrus Paradisi (Grapefruit) Peel Oil, Sodium Dehydroacetate, Hydrolyzed Corn Starch Hydroxyethyl Ether, Water/Aqua/Eau, Limonene, Citric Acid.']                                                                                                                                                                                                                                                                                                                                                                                1370\n",
       "['Aqua (Water), Glycerin, Simmondsia Chinensis (Jojoba) Seed Oil, Helianthus Annuus (Sunflower) Seed Oil, Isostearyl Alcohol, Propanediol, 1,2-Hexanediol, Niacinamide, Pentylene Glycol, Butylene Glycol Cocoate, Cellulose, Macrocystis Pyrifera (Kelp) Extract, Camellia Sinensis Leaf Extract, Argania Spinosa Kernel Oil, Hyaluronic Acid, Ceramide Np, Tocopheryl Acetate, Tocopherol, Maltodextrin, Acrylates/C10-30 Alkyl Acrylate Crosspolymer, Parfum (Fragrance), Ethylcellulose, Xanthan Gum, Sodium Hyaluronate, Sodium Hydroxide, Adenosine, Biosaccharide Gum-1, Phytosphingosine, Hydrogenated Lecithin, Chlorphenesin, Potassium Sorbate, Sodium Benzoate, Limonene, Linalool, Citronellol, Geraniol.']                                                                                                                                                                                                                                                                                                                                                                                             1110\n",
       "['Water/Aqua/Eau, Cyclopentasiloxane, Isopropyl Palmitate, C14-22 Alcohols, Polymethylsilsesquioxane, Dimethicone, Propanediol, Glyceryl Stearate, PEG-100 Stearate, Shea Butter Ethyl Esters, Retinol, Hydroxypinacolone Retinoate, Ceramide NP, Sodium Hyaluronate, Solanum Lycopersicum (Tomato) Fruit Extract, Swertia Chirata Extract, Squalane, Punica Granatum Extract, Tocopheryl Acetate, Glycine Soja (Soybean) Extract, Urea, Yeast Amino Acids, Trehalose, Inositol, Taurine, Betaine, Glycerin, Caprylic/Capric Triglyceride, Dimethyl Isosorbide, Silica, Ethylhexyl Palmitate, Silica Dimethyl Silylate, Butylene Glycol, Lecithin, Ammonium Acryloyldimethyltaurate/VP Copolymer, C12-20 Alkyl Glucoside, Cetyl Palmitate, Laureth-23, Polysorbate 20, Trideceth-6 Phosphate, Synthetic Fluorphlogopite, Phenoxyethanol, Ethylhexylglycerin, Chlorphenesin, Disodium EDTA, Sodium Hydroxide, Tris (Tetramethylhydroxypiperidinol) Citrate, Sodium Benzotriazolyl Butylphenol Sulfonate, Titanium Dioxide (CI 77891), Red 4 (CI 14700), Alpha-Isomethyl Ionone, Citronellol, Fragrance (Parfum).']     870\n",
       "['Aqua (Water), Glycerin, Pentylene Glycol, Cocoglycerides, Squalane, Glyceryl Stearate Citrate, Hydrogenated Coco-glycerides, Jojoba Esters, Propanediol, Polyglycerin-3, Camellia Sinensis Leaf Extract, Nephelium Lappaceum Leaf Extract, Alpinia Speciosa Leaf Extract, Tocopherol, Tocopheryl Acetate, Ceramide NP, Carbomer, Adenosine, Hydroxyacetophenone, Chlorphenesin, Sodium Hydroxide, Sodium Polyacrylate, Maltodextrin, Parfum (Fragrance), Linalool, Citronellol, Geraniol.']                                                                                                                                                                                                                                                                                                                                                                                                                                                                                                                                                                                                                         866\n",
       "na                                                                                                                                                                                                                                                                                                                                                                                                                                                                                                                                                                                                                                                                                                                                                                                                                                                                                                                                                                                                                                                                                                                    801\n",
       "Name: count, dtype: int64"
      ]
     },
     "execution_count": 5,
     "metadata": {},
     "output_type": "execute_result"
    }
   ],
   "source": [
    "# Display the value counts of the ingredients column\n",
    "skincare_reviews[\"ingredients\"].value_counts().head()\n"
   ]
  },
  {
   "cell_type": "code",
   "execution_count": 6,
   "metadata": {},
   "outputs": [
    {
     "data": {
      "text/plain": [
       "highlights\n",
       "['Good for: Dullness/Uneven Texture', 'Good for: Pores']                                                                                                                 1526\n",
       "['Hyaluronic Acid', 'Clean at Sephora', 'Good for: Anti-Aging', 'Good for: Dryness', 'Niacinamide']                                                                      1110\n",
       "['Good for: Dullness/Uneven Texture', 'Vitamin C', 'Hydrating', 'Good for: Anti-Aging', 'Best for Dry, Combo, Normal Skin', 'Cruelty-Free']                              1003\n",
       "na                                                                                                                                                                        970\n",
       "['Good for: Dark Circles', 'Good for: Anti-Aging', 'Retinol', 'Without Parabens', 'Gluten Free', 'Cruelty-Free']                                                          876\n",
       "                                                                                                                                                                         ... \n",
       "['Without Mineral Oil', 'Without Phthalates', 'Without Parabens', 'Gluten Free', 'Without Sulfates SLS & SLES']                                                             1\n",
       "['Good for: Dullness/Uneven Texture', 'Clean at Sephora', 'Without Parabens', 'Without Sulfates SLS & SLES', 'Cruelty-Free']                                                1\n",
       "['Good for: Dryness', 'Fragrance Free', 'Without Sulfates SLS & SLES', 'Best for Dry, Combo, Normal Skin', 'Without Parabens', 'Without Phthalates']                        1\n",
       "['Best for Dry Skin', 'Good for: Loss of firmness', 'Hydrating', 'Clean at Sephora', 'Good for: Dryness', 'Good for: Dark spots']                                           1\n",
       "['Vitamin C', 'Good for: Anti-Aging', 'Good for: Loss of firmness', 'Good for: Dullness/Uneven Texture', 'Good for: Dark spots', 'Best for Oily, Combo, Normal Skin']       1\n",
       "Name: count, Length: 1127, dtype: int64"
      ]
     },
     "execution_count": 6,
     "metadata": {},
     "output_type": "execute_result"
    }
   ],
   "source": [
    "# Display the value counts of the highlights column\n",
    "skincare_reviews[\"highlights\"].value_counts()\n"
   ]
  },
  {
   "cell_type": "code",
   "execution_count": 7,
   "metadata": {},
   "outputs": [
    {
     "data": {
      "text/plain": [
       "secondary_category\n",
       "Treatments                14030\n",
       "Moisturizers              13387\n",
       "Cleansers                  5774\n",
       "Eye Care                   4519\n",
       "Sunscreen                  3338\n",
       "Mini Size                  2472\n",
       "Masks                      2085\n",
       "Lip Balms & Treatments     1495\n",
       "Value & Gift Sets          1097\n",
       "Wellness                   1057\n",
       "Self Tanners                970\n",
       "High Tech Tools             836\n",
       "Name: count, dtype: int64"
      ]
     },
     "execution_count": 7,
     "metadata": {},
     "output_type": "execute_result"
    }
   ],
   "source": [
    "# Display the value counts of the secondary_category column\n",
    "skincare_reviews[\"secondary_category\"].value_counts()\n"
   ]
  },
  {
   "cell_type": "code",
   "execution_count": 8,
   "metadata": {},
   "outputs": [
    {
     "data": {
      "text/plain": [
       "tertiary_category\n",
       "Face Serums                  12215\n",
       "Moisturizers                  9867\n",
       "na                            5593\n",
       "Eye Creams & Treatments       4410\n",
       "Face Sunscreen                3166\n",
       "Face Wash & Cleansers         3106\n",
       "Face Masks                    2001\n",
       "Face Oils                     1842\n",
       "Exfoliators                   1423\n",
       "Mists & Essences              1046\n",
       "Facial Peels                  1034\n",
       "Toners                         984\n",
       "Beauty Supplements             935\n",
       "Blemish & Acne Treatments      781\n",
       "Anti-Aging                     606\n",
       "For Body                       524\n",
       "Decollete & Neck Creams        303\n",
       "Night Creams                   298\n",
       "Makeup Removers                230\n",
       "Hair Removal                   123\n",
       "Facial Rollers                 116\n",
       "Eye Masks                      109\n",
       "Facial Cleansing Brushes       103\n",
       "Sheet Masks                     84\n",
       "For Face                        75\n",
       "Body Sunscreen                  40\n",
       "BB & CC Creams                  31\n",
       "Holistic Wellness                6\n",
       "Face Wipes                       5\n",
       "Teeth Whitening                  4\n",
       "Name: count, dtype: int64"
      ]
     },
     "execution_count": 8,
     "metadata": {},
     "output_type": "execute_result"
    }
   ],
   "source": [
    "# Display the value counts of the tertiary_category column\n",
    "skincare_reviews[\"tertiary_category\"].value_counts()\n"
   ]
  },
  {
   "cell_type": "markdown",
   "metadata": {},
   "source": [
    "## **3.0 Text Preprocessing**"
   ]
  },
  {
   "cell_type": "markdown",
   "metadata": {},
   "source": [
    "Before performing text vectorization (word embedding), I need to make sure that all text within the specified columns is in lowercase format.\n",
    "\n",
    "The specific columns that need to be converted to lowercase format:\n",
    "1. `ingredients`\n",
    "2. `highlights`\n",
    "3. `secondary_category`\n",
    "4. `tertiary_category`\n",
    "\n",
    "Given that the following column are already in lowercase format:\n",
    "1. `limited_edition`"
   ]
  },
  {
   "cell_type": "markdown",
   "metadata": {},
   "source": [
    "### **3.1 Lowercasing**"
   ]
  },
  {
   "cell_type": "code",
   "execution_count": null,
   "metadata": {},
   "outputs": [
    {
     "data": {
      "text/html": [
       "<div>\n",
       "<style scoped>\n",
       "    .dataframe tbody tr th:only-of-type {\n",
       "        vertical-align: middle;\n",
       "    }\n",
       "\n",
       "    .dataframe tbody tr th {\n",
       "        vertical-align: top;\n",
       "    }\n",
       "\n",
       "    .dataframe thead th {\n",
       "        text-align: right;\n",
       "    }\n",
       "</style>\n",
       "<table border=\"1\" class=\"dataframe\">\n",
       "  <thead>\n",
       "    <tr style=\"text-align: right;\">\n",
       "      <th></th>\n",
       "      <th>ingredients</th>\n",
       "      <th>highlights</th>\n",
       "      <th>secondary_category</th>\n",
       "      <th>tertiary_category</th>\n",
       "    </tr>\n",
       "  </thead>\n",
       "  <tbody>\n",
       "    <tr>\n",
       "      <th>0</th>\n",
       "      <td>['protease 3.0, protease 4.5, protease 6.0, peptidase, bromelain, neutral bacterial protease, pa...</td>\n",
       "      <td>['vegan', 'clean at sephora', 'without phthalates', 'without parabens', 'gluten free']</td>\n",
       "      <td>wellness</td>\n",
       "      <td>beauty supplements</td>\n",
       "    </tr>\n",
       "    <tr>\n",
       "      <th>1</th>\n",
       "      <td>['microcrystalline cellulose, magnesium oxide, sodium cocoyl isethionate, colloidal oatmeal, dis...</td>\n",
       "      <td>['vegan', 'good for: dullness/uneven texture', 'allure 2019 best of beauty award winner', 'salic...</td>\n",
       "      <td>cleansers</td>\n",
       "      <td>exfoliators</td>\n",
       "    </tr>\n",
       "    <tr>\n",
       "      <th>2</th>\n",
       "      <td>['aqua/water/eau, dicaprylyl ether, caprylic/capric triglyceride, butyloctyl salicylate, polygly...</td>\n",
       "      <td>['good for: dullness/uneven texture', 'good for: loss of firmness', 'clean at sephora', 'retinol...</td>\n",
       "      <td>treatments</td>\n",
       "      <td>face serums</td>\n",
       "    </tr>\n",
       "    <tr>\n",
       "      <th>3</th>\n",
       "      <td>['water/aqua/eau, propanediol, dicaprylyl carbonate, glycerin, pentylene glycol, sodium hyaluron...</td>\n",
       "      <td>['best for normal skin', 'plumping', 'hydrating', 'clean at sephora', 'good for: dryness']</td>\n",
       "      <td>moisturizers</td>\n",
       "      <td>moisturizers</td>\n",
       "    </tr>\n",
       "    <tr>\n",
       "      <th>4</th>\n",
       "      <td>['water/aqua/eau, cyclopentasiloxane, isopropyl palmitate, c14-22 alcohols, polymethylsilsesquio...</td>\n",
       "      <td>['good for: dark circles', 'good for: anti-aging', 'retinol', 'without parabens', 'gluten free',...</td>\n",
       "      <td>mini size</td>\n",
       "      <td>na</td>\n",
       "    </tr>\n",
       "  </tbody>\n",
       "</table>\n",
       "</div>"
      ],
      "text/plain": [
       "                                                                                           ingredients  \\\n",
       "0  ['protease 3.0, protease 4.5, protease 6.0, peptidase, bromelain, neutral bacterial protease, pa...   \n",
       "1  ['microcrystalline cellulose, magnesium oxide, sodium cocoyl isethionate, colloidal oatmeal, dis...   \n",
       "2  ['aqua/water/eau, dicaprylyl ether, caprylic/capric triglyceride, butyloctyl salicylate, polygly...   \n",
       "3  ['water/aqua/eau, propanediol, dicaprylyl carbonate, glycerin, pentylene glycol, sodium hyaluron...   \n",
       "4  ['water/aqua/eau, cyclopentasiloxane, isopropyl palmitate, c14-22 alcohols, polymethylsilsesquio...   \n",
       "\n",
       "                                                                                            highlights  \\\n",
       "0               ['vegan', 'clean at sephora', 'without phthalates', 'without parabens', 'gluten free']   \n",
       "1  ['vegan', 'good for: dullness/uneven texture', 'allure 2019 best of beauty award winner', 'salic...   \n",
       "2  ['good for: dullness/uneven texture', 'good for: loss of firmness', 'clean at sephora', 'retinol...   \n",
       "3           ['best for normal skin', 'plumping', 'hydrating', 'clean at sephora', 'good for: dryness']   \n",
       "4  ['good for: dark circles', 'good for: anti-aging', 'retinol', 'without parabens', 'gluten free',...   \n",
       "\n",
       "  secondary_category   tertiary_category  \n",
       "0           wellness  beauty supplements  \n",
       "1          cleansers         exfoliators  \n",
       "2         treatments         face serums  \n",
       "3       moisturizers        moisturizers  \n",
       "4          mini size                  na  "
      ]
     },
     "metadata": {},
     "output_type": "display_data"
    }
   ],
   "source": [
    "# Convert to lowercase for the specified columns\n",
    "columns_to_lowercase = [\"ingredients\", \"highlights\", \"secondary_category\", \"tertiary_category\"]\n",
    "skincare_reviews[columns_to_lowercase] = skincare_reviews[columns_to_lowercase].map(lambda x:\n",
    "    x.lower() if isinstance(x, str) else x)\n",
    "\n",
    "# Verify the text is now in lowercase\n",
    "skincare_reviews[columns_to_lowercase].head()\n"
   ]
  },
  {
   "cell_type": "markdown",
   "metadata": {},
   "source": [
    "### **3.2 Remaining Text Preprocessing**"
   ]
  },
  {
   "cell_type": "markdown",
   "metadata": {},
   "source": [
    "1. Remove special characters\n",
    "2. Perform tokenization\n",
    "3. Remove stopwords\n",
    "4. Remove extra spaces"
   ]
  },
  {
   "cell_type": "code",
   "execution_count": null,
   "metadata": {},
   "outputs": [],
   "source": [
    "# Function to preprocess text data after converting to lowercase\n",
    "def preprocess_text(text):\n",
    "    text = re.sub(r\"\\W+\", \" \", text)                                                        # remove special characters\n",
    "    tokens = word_tokenize(text)                                                            # perform tokenization\n",
    "    filtered_tokens = [word for word in tokens if word not in stop_words and word.strip()]  # remove stopwords\n",
    "    clean_text = \" \".join(filtered_tokens)                                                  # remove extra spaces\n",
    "    \n",
    "    return clean_text\n",
    "\n",
    "# Parallelize for faster processing\n",
    "def apply_parallel(df, column, func):\n",
    "    results = Parallel(n_jobs=-1)(delayed(func)(text) for text in df[column].astype(str))\n",
    "    return results\n"
   ]
  },
  {
   "cell_type": "code",
   "execution_count": null,
   "metadata": {},
   "outputs": [
    {
     "data": {
      "text/html": [
       "<div>\n",
       "<style scoped>\n",
       "    .dataframe tbody tr th:only-of-type {\n",
       "        vertical-align: middle;\n",
       "    }\n",
       "\n",
       "    .dataframe tbody tr th {\n",
       "        vertical-align: top;\n",
       "    }\n",
       "\n",
       "    .dataframe thead th {\n",
       "        text-align: right;\n",
       "    }\n",
       "</style>\n",
       "<table border=\"1\" class=\"dataframe\">\n",
       "  <thead>\n",
       "    <tr style=\"text-align: right;\">\n",
       "      <th></th>\n",
       "      <th>ingredients</th>\n",
       "      <th>highlights</th>\n",
       "      <th>secondary_category</th>\n",
       "      <th>tertiary_category</th>\n",
       "      <th>limited_edition</th>\n",
       "    </tr>\n",
       "  </thead>\n",
       "  <tbody>\n",
       "    <tr>\n",
       "      <th>0</th>\n",
       "      <td>protease 3 0 protease 4 5 protease 6 0 peptidase bromelain neutral bacterial protease papain bre...</td>\n",
       "      <td>vegan clean sephora without phthalates without parabens gluten free</td>\n",
       "      <td>wellness</td>\n",
       "      <td>beauty supplements</td>\n",
       "      <td>na</td>\n",
       "    </tr>\n",
       "    <tr>\n",
       "      <th>1</th>\n",
       "      <td>microcrystalline cellulose magnesium oxide sodium cocoyl isethionate colloidal oatmeal disodium ...</td>\n",
       "      <td>vegan good dullness uneven texture allure 2019 best beauty award winner salicylic acid best oily...</td>\n",
       "      <td>cleansers</td>\n",
       "      <td>exfoliators</td>\n",
       "      <td>na</td>\n",
       "    </tr>\n",
       "    <tr>\n",
       "      <th>2</th>\n",
       "      <td>aqua water eau dicaprylyl ether caprylic capric triglyceride butyloctyl salicylate polyglyceryl ...</td>\n",
       "      <td>good dullness uneven texture good loss firmness clean sephora retinol good anti aging reef safe spf</td>\n",
       "      <td>treatments</td>\n",
       "      <td>face serums</td>\n",
       "      <td>na</td>\n",
       "    </tr>\n",
       "    <tr>\n",
       "      <th>3</th>\n",
       "      <td>water aqua eau propanediol dicaprylyl carbonate glycerin pentylene glycol sodium hyaluronate hyd...</td>\n",
       "      <td>best normal skin plumping hydrating clean sephora good dryness</td>\n",
       "      <td>moisturizers</td>\n",
       "      <td>moisturizers</td>\n",
       "      <td>na</td>\n",
       "    </tr>\n",
       "    <tr>\n",
       "      <th>4</th>\n",
       "      <td>water aqua eau cyclopentasiloxane isopropyl palmitate c14 22 alcohols polymethylsilsesquioxane d...</td>\n",
       "      <td>good dark circles good anti aging retinol without parabens gluten free cruelty free</td>\n",
       "      <td>mini size</td>\n",
       "      <td>na</td>\n",
       "      <td>na</td>\n",
       "    </tr>\n",
       "  </tbody>\n",
       "</table>\n",
       "</div>"
      ],
      "text/plain": [
       "                                                                                           ingredients  \\\n",
       "0  protease 3 0 protease 4 5 protease 6 0 peptidase bromelain neutral bacterial protease papain bre...   \n",
       "1  microcrystalline cellulose magnesium oxide sodium cocoyl isethionate colloidal oatmeal disodium ...   \n",
       "2  aqua water eau dicaprylyl ether caprylic capric triglyceride butyloctyl salicylate polyglyceryl ...   \n",
       "3  water aqua eau propanediol dicaprylyl carbonate glycerin pentylene glycol sodium hyaluronate hyd...   \n",
       "4  water aqua eau cyclopentasiloxane isopropyl palmitate c14 22 alcohols polymethylsilsesquioxane d...   \n",
       "\n",
       "                                                                                            highlights  \\\n",
       "0                                  vegan clean sephora without phthalates without parabens gluten free   \n",
       "1  vegan good dullness uneven texture allure 2019 best beauty award winner salicylic acid best oily...   \n",
       "2  good dullness uneven texture good loss firmness clean sephora retinol good anti aging reef safe spf   \n",
       "3                                       best normal skin plumping hydrating clean sephora good dryness   \n",
       "4                  good dark circles good anti aging retinol without parabens gluten free cruelty free   \n",
       "\n",
       "  secondary_category   tertiary_category limited_edition  \n",
       "0           wellness  beauty supplements              na  \n",
       "1          cleansers         exfoliators              na  \n",
       "2         treatments         face serums              na  \n",
       "3       moisturizers        moisturizers              na  \n",
       "4          mini size                  na              na  "
      ]
     },
     "metadata": {},
     "output_type": "display_data"
    }
   ],
   "source": [
    "# Apply the preprocess_text function in parallel to each relevant column\n",
    "for column in [\"ingredients\", \"highlights\", \"secondary_category\", \"tertiary_category\", \"limited_edition\"]:\n",
    "    skincare_reviews[column] = apply_parallel(skincare_reviews, column, preprocess_text)\n",
    "    \n",
    "# Display the first 5 rows of the relevant columns\n",
    "skincare_reviews[[\"ingredients\", \"highlights\", \"secondary_category\", \"tertiary_category\", \"limited_edition\"]].head()\n"
   ]
  },
  {
   "cell_type": "markdown",
   "metadata": {},
   "source": [
    "### **3.3 Multi-Criteria Features Concatenation**"
   ]
  },
  {
   "cell_type": "code",
   "execution_count": null,
   "metadata": {},
   "outputs": [
    {
     "data": {
      "text/html": [
       "<div>\n",
       "<style scoped>\n",
       "    .dataframe tbody tr th:only-of-type {\n",
       "        vertical-align: middle;\n",
       "    }\n",
       "\n",
       "    .dataframe tbody tr th {\n",
       "        vertical-align: top;\n",
       "    }\n",
       "\n",
       "    .dataframe thead th {\n",
       "        text-align: right;\n",
       "    }\n",
       "</style>\n",
       "<table border=\"1\" class=\"dataframe\">\n",
       "  <thead>\n",
       "    <tr style=\"text-align: right;\">\n",
       "      <th></th>\n",
       "      <th>multicriteria_combined_features</th>\n",
       "    </tr>\n",
       "  </thead>\n",
       "  <tbody>\n",
       "    <tr>\n",
       "      <th>0</th>\n",
       "      <td>protease 3 0 protease 4 5 protease 6 0 peptidase bromelain neutral bacterial protease papain bre...</td>\n",
       "    </tr>\n",
       "    <tr>\n",
       "      <th>1</th>\n",
       "      <td>microcrystalline cellulose magnesium oxide sodium cocoyl isethionate colloidal oatmeal disodium ...</td>\n",
       "    </tr>\n",
       "    <tr>\n",
       "      <th>2</th>\n",
       "      <td>aqua water eau dicaprylyl ether caprylic capric triglyceride butyloctyl salicylate polyglyceryl ...</td>\n",
       "    </tr>\n",
       "    <tr>\n",
       "      <th>3</th>\n",
       "      <td>water aqua eau propanediol dicaprylyl carbonate glycerin pentylene glycol sodium hyaluronate hyd...</td>\n",
       "    </tr>\n",
       "    <tr>\n",
       "      <th>4</th>\n",
       "      <td>water aqua eau cyclopentasiloxane isopropyl palmitate c14 22 alcohols polymethylsilsesquioxane d...</td>\n",
       "    </tr>\n",
       "  </tbody>\n",
       "</table>\n",
       "</div>"
      ],
      "text/plain": [
       "                                                                       multicriteria_combined_features\n",
       "0  protease 3 0 protease 4 5 protease 6 0 peptidase bromelain neutral bacterial protease papain bre...\n",
       "1  microcrystalline cellulose magnesium oxide sodium cocoyl isethionate colloidal oatmeal disodium ...\n",
       "2  aqua water eau dicaprylyl ether caprylic capric triglyceride butyloctyl salicylate polyglyceryl ...\n",
       "3  water aqua eau propanediol dicaprylyl carbonate glycerin pentylene glycol sodium hyaluronate hyd...\n",
       "4  water aqua eau cyclopentasiloxane isopropyl palmitate c14 22 alcohols polymethylsilsesquioxane d..."
      ]
     },
     "metadata": {},
     "output_type": "display_data"
    }
   ],
   "source": [
    "# Concatenate the processed columns into a single column\n",
    "skincare_reviews[\"multicriteria_combined_features\"] = skincare_reviews[[\"ingredients\",\n",
    "                                                                        \"highlights\",\n",
    "                                                                        \"secondary_category\",\n",
    "                                                                        \"tertiary_category\",\n",
    "                                                                        \"limited_edition\"]\n",
    "                                                                       ].agg(\" \".join, axis=1)\n",
    "\n",
    "# Display the new dataframe to verify\n",
    "skincare_reviews[[\"multicriteria_combined_features\"]].head()\n"
   ]
  },
  {
   "cell_type": "code",
   "execution_count": null,
   "metadata": {},
   "outputs": [],
   "source": [
    "# Drop the columns that are no longer needed\n",
    "skincare_reviews.drop(columns=[\"ingredients\",\n",
    "                               \"highlights\",\n",
    "                               \"secondary_category\",\n",
    "                               \"tertiary_category\",\n",
    "                               \"limited_edition\"], inplace=True)\n"
   ]
  },
  {
   "cell_type": "markdown",
   "metadata": {},
   "source": [
    "# **4.0 Text Vectorization**"
   ]
  },
  {
   "cell_type": "markdown",
   "metadata": {},
   "source": [
    "**Note:** Check if there are any missing values in the dataset."
   ]
  },
  {
   "cell_type": "code",
   "execution_count": 9,
   "metadata": {},
   "outputs": [
    {
     "data": {
      "text/plain": [
       "product_id                  0\n",
       "product_name                0\n",
       "brand_name                  0\n",
       "average_rating              0\n",
       "ingredients                 0\n",
       "price_usd                   0\n",
       "limited_edition             0\n",
       "highlights                  0\n",
       "secondary_category          0\n",
       "tertiary_category           0\n",
       "author_id                   0\n",
       "calibrated_author_rating    0\n",
       "dtype: int64"
      ]
     },
     "execution_count": 9,
     "metadata": {},
     "output_type": "execute_result"
    }
   ],
   "source": [
    "# Display if there are any missing values in skincare_reviews\n",
    "skincare_reviews.isnull().sum()\n"
   ]
  },
  {
   "cell_type": "markdown",
   "metadata": {},
   "source": [
    "## **4.1 Modern Word Embeddings**"
   ]
  },
  {
   "cell_type": "markdown",
   "metadata": {},
   "source": [
    "### **4.1.1 Global Vectors for Word Representation (GloVe)**"
   ]
  },
  {
   "cell_type": "code",
   "execution_count": 15,
   "metadata": {},
   "outputs": [
    {
     "data": {
      "text/plain": [
       "['pavonica', 'methicone', 'konjac', 'diastase', 'eop']"
      ]
     },
     "execution_count": 15,
     "metadata": {},
     "output_type": "execute_result"
    }
   ],
   "source": [
    "# Function to extract vocabulary from the multicriteria_combined_features column\n",
    "def extract_vocabulary(column):\n",
    "    vocabulary = set()\n",
    "    \n",
    "    for document in column:\n",
    "        words = document.split()\n",
    "        for word in words:\n",
    "            vocabulary.add(word)\n",
    "            \n",
    "    return vocabulary\n",
    "\n",
    "# Extract vocabulary\n",
    "vocabulary = extract_vocabulary(skincare_reviews[\"multicriteria_combined_features\"])\n",
    "\n",
    "# Display the first 5 words in the vocabulary\n",
    "list(vocabulary)[:5]\n"
   ]
  },
  {
   "cell_type": "code",
   "execution_count": 16,
   "metadata": {},
   "outputs": [
    {
     "name": "stdout",
     "output_type": "stream",
     "text": [
      "Loaded GloVe embeddings for 2739 words.\n"
     ]
    }
   ],
   "source": [
    "# Define the path to the GloVe embeddings model (840B tokens and 300-dimensional vectors)\n",
    "glove_path = \"models/glove.840B.300d.txt\"\n",
    "\n",
    "# Function to load GloVe model and extract embeddings for words in our vocabulary\n",
    "def load_glove_model(glove_file_path, vocab):\n",
    "    glove_embeddings = {}\n",
    "    with open(glove_file_path, \"r\", encoding=\"utf-8\") as file:\n",
    "        for line in file:\n",
    "            values = line.split(maxsplit=1) # ensure to only split once\n",
    "            word = values[0]\n",
    "            if word in vocab: # only load embeddings for words in our vocabulary\n",
    "                # Split the embeddings string into an array\n",
    "                vector = np.asarray(values[1].split(), dtype=\"float32\")\n",
    "                glove_embeddings[word] = vector\n",
    "                \n",
    "    return glove_embeddings\n",
    "\n",
    "# Load the GloVe embeddings\n",
    "glove_embeddings = load_glove_model(glove_path, vocabulary)\n",
    "\n",
    "# Display the number of words in the GloVe embeddings\n",
    "print(f\"Loaded GloVe embeddings for {len(glove_embeddings)} words.\")\n"
   ]
  },
  {
   "cell_type": "code",
   "execution_count": 17,
   "metadata": {},
   "outputs": [
    {
     "data": {
      "text/plain": [
       "0    [-0.1909807, 0.21728708, 0.063824415, -0.09881957, -0.1294178, 0.29103935, -0.16182004, 0.041187...\n",
       "1    [-0.2007592, 0.18091148, 0.016441643, -0.12368103, -0.18935207, 0.16839498, -0.18683685, 0.11725...\n",
       "2    [-0.19948438, 0.109405495, -0.016978933, -0.05321018, -0.23000163, 0.08242865, -0.09035488, 0.12...\n",
       "3    [-0.16096152, 0.1353347, 0.0015462068, -0.03779596, -0.19740348, 0.16779856, -0.28631714, 0.2497...\n",
       "4    [-0.22409232, 0.1372577, -0.024697045, -0.04310343, -0.15350178, 0.27084374, -0.07375035, 0.1545...\n",
       "Name: vectorized_features_glove, dtype: object"
      ]
     },
     "execution_count": 17,
     "metadata": {},
     "output_type": "execute_result"
    }
   ],
   "source": [
    "# Function to vectorize using the GloVe embeddings\n",
    "def vectorize_text_glove(text, embeddings, dim=300):\n",
    "    words = text.split()\n",
    "    word_vectors = [embeddings.get(word, None) for word in words]\n",
    "    word_vectors = [vec for vec in word_vectors if vec is not None]\n",
    "    \n",
    "    if word_vectors:\n",
    "        return np.mean(word_vectors, axis=0)\n",
    "    else:\n",
    "        return np.zeros(dim)\n",
    "\n",
    "# Vectorize the multicriteria_combined_features data\n",
    "skincare_reviews[\"vectorized_features_glove\"] = skincare_reviews[\"multicriteria_combined_features\"].apply(\n",
    "    lambda x: vectorize_text_glove(x, glove_embeddings)\n",
    ")\n",
    "\n",
    "# Verify the vectorization\n",
    "skincare_reviews[\"vectorized_features_glove\"].head()\n"
   ]
  },
  {
   "cell_type": "markdown",
   "metadata": {},
   "source": [
    "### **4.1.2 Word2Vec**"
   ]
  },
  {
   "cell_type": "code",
   "execution_count": 18,
   "metadata": {},
   "outputs": [
    {
     "name": "stdout",
     "output_type": "stream",
     "text": [
      "Loaded Word2Vec embeddings for 3000000 words.\n"
     ]
    }
   ],
   "source": [
    "# Function to load Word2Vec model from a binary file (as gensim is not installed due to library conflicts in my environment)\n",
    "def load_word2vec_model(file_name, vocab_size=3000000, vector_size=300):\n",
    "    word_vectors = {}\n",
    "    with open(file_name, \"rb\") as f:\n",
    "        # Read header\n",
    "        header = f.readline()\n",
    "        vocab_count, layer_size = map(int, header.split())\n",
    "        binary_len = np.dtype(\"float32\").itemsize * vector_size\n",
    "\n",
    "        for _ in range(vocab_size):\n",
    "            # Read word\n",
    "            word = []\n",
    "            while True:\n",
    "                ch = f.read(1)\n",
    "                if ch == b\" \":\n",
    "                    break\n",
    "                if ch != b\"\\n\":\n",
    "                    word.append(ch)\n",
    "            word = b\"\".join(word).decode(\"latin-1\")\n",
    "\n",
    "            # Read vector\n",
    "            vector = np.frombuffer(f.read(binary_len), dtype=\"float32\")\n",
    "            word_vectors[word] = vector\n",
    "\n",
    "    return word_vectors\n",
    "\n",
    "# Define the path to the Word2Vec model (Google News 300-dimensional embeddings)\n",
    "word2vec_path = \"models/GoogleNews-vectors-negative300.bin\"\n",
    "\n",
    "# Load the Word2Vec embeddings\n",
    "word_vectors = load_word2vec_model(word2vec_path)\n",
    "\n",
    "# Display the number of words in the Word2Vec embeddings\n",
    "print(f\"Loaded Word2Vec embeddings for {len(word_vectors)} words.\")\n"
   ]
  },
  {
   "cell_type": "code",
   "execution_count": 19,
   "metadata": {},
   "outputs": [
    {
     "data": {
      "text/plain": [
       "0    [-0.025286864, 0.04773051, 0.00082256, 0.05296351, -0.11717987, 0.0034599304, 0.041460164, -0.15...\n",
       "1    [-0.05279678, 0.100673035, 0.004677933, 0.080512166, -0.08585795, 0.025877278, 0.008998057, -0.1...\n",
       "2    [-0.018925477, 0.11361898, 0.0039180755, 0.039836273, -0.077773795, 0.008910879, -0.0038208007, ...\n",
       "3    [-0.0947309, 0.082422346, 0.046553873, 0.033076715, -0.15074053, -0.0037631989, -0.019455997, -0...\n",
       "4    [-0.075490214, 0.063881546, 0.043978788, 0.03898683, -0.12316739, 0.017027408, -0.009806263, -0....\n",
       "Name: vectorized_features_w2v, dtype: object"
      ]
     },
     "execution_count": 19,
     "metadata": {},
     "output_type": "execute_result"
    }
   ],
   "source": [
    "# Function to vectorize using the Word2Vec embeddings\n",
    "def vectorize_text_word2vec(text, word_vectors, dim=300):\n",
    "    words = text.split()\n",
    "    word_vectors = [word_vectors[word] for word in words if word in word_vectors]\n",
    "    \n",
    "    if word_vectors:\n",
    "        return np.mean(word_vectors, axis=0)\n",
    "    else:\n",
    "        return np.zeros(dim)\n",
    "\n",
    "# Vectorize the multicriteria_combined_features data\n",
    "skincare_reviews[\"vectorized_features_w2v\"] = skincare_reviews[\"multicriteria_combined_features\"].apply(\n",
    "    lambda x: vectorize_text_word2vec(x, word_vectors)\n",
    ")\n",
    "\n",
    "# Verify the vectorization\n",
    "skincare_reviews[\"vectorized_features_w2v\"].head()\n"
   ]
  },
  {
   "cell_type": "code",
   "execution_count": 20,
   "metadata": {},
   "outputs": [
    {
     "data": {
      "text/html": [
       "<div>\n",
       "<style scoped>\n",
       "    .dataframe tbody tr th:only-of-type {\n",
       "        vertical-align: middle;\n",
       "    }\n",
       "\n",
       "    .dataframe tbody tr th {\n",
       "        vertical-align: top;\n",
       "    }\n",
       "\n",
       "    .dataframe thead th {\n",
       "        text-align: right;\n",
       "    }\n",
       "</style>\n",
       "<table border=\"1\" class=\"dataframe\">\n",
       "  <thead>\n",
       "    <tr style=\"text-align: right;\">\n",
       "      <th></th>\n",
       "      <th>0</th>\n",
       "      <th>1</th>\n",
       "      <th>2</th>\n",
       "      <th>3</th>\n",
       "      <th>4</th>\n",
       "    </tr>\n",
       "  </thead>\n",
       "  <tbody>\n",
       "    <tr>\n",
       "      <th>product_id</th>\n",
       "      <td>P503052</td>\n",
       "      <td>P423688</td>\n",
       "      <td>P504045</td>\n",
       "      <td>P479125</td>\n",
       "      <td>P440650</td>\n",
       "    </tr>\n",
       "    <tr>\n",
       "      <th>product_name</th>\n",
       "      <td>Mini Flatter Me Digestive Enzyme Supplement</td>\n",
       "      <td>Daily Microfoliant Exfoliator</td>\n",
       "      <td>Daily Dose Bioretinol + Mineral SPF 40 with Bakuchiol</td>\n",
       "      <td>Mini Cloud Dew Oil-Free Gel Cream</td>\n",
       "      <td>Mini Retinol Youth Renewal Serum</td>\n",
       "    </tr>\n",
       "    <tr>\n",
       "      <th>brand_name</th>\n",
       "      <td>HUM Nutrition</td>\n",
       "      <td>Dermalogica</td>\n",
       "      <td>Supergoop!</td>\n",
       "      <td>Summer Fridays</td>\n",
       "      <td>Murad</td>\n",
       "    </tr>\n",
       "    <tr>\n",
       "      <th>average_rating</th>\n",
       "      <td>4.2643</td>\n",
       "      <td>4.696</td>\n",
       "      <td>4.7357</td>\n",
       "      <td>4.4613</td>\n",
       "      <td>4.6089</td>\n",
       "    </tr>\n",
       "    <tr>\n",
       "      <th>price_usd</th>\n",
       "      <td>15.0</td>\n",
       "      <td>65.0</td>\n",
       "      <td>46.0</td>\n",
       "      <td>17.0</td>\n",
       "      <td>32.0</td>\n",
       "    </tr>\n",
       "    <tr>\n",
       "      <th>author_id</th>\n",
       "      <td>27517179462</td>\n",
       "      <td>11109420515</td>\n",
       "      <td>22705593305</td>\n",
       "      <td>20430950197</td>\n",
       "      <td>5967382859</td>\n",
       "    </tr>\n",
       "    <tr>\n",
       "      <th>calibrated_author_rating</th>\n",
       "      <td>5.0</td>\n",
       "      <td>5.0</td>\n",
       "      <td>5.0</td>\n",
       "      <td>5.0</td>\n",
       "      <td>5.0</td>\n",
       "    </tr>\n",
       "    <tr>\n",
       "      <th>multicriteria_combined_features</th>\n",
       "      <td>protease 3 0 protease 4 5 protease 6 0 peptidase bromelain neutral bacterial protease papain bre...</td>\n",
       "      <td>microcrystalline cellulose magnesium oxide sodium cocoyl isethionate colloidal oatmeal disodium ...</td>\n",
       "      <td>aqua water eau dicaprylyl ether caprylic capric triglyceride butyloctyl salicylate polyglyceryl ...</td>\n",
       "      <td>water aqua eau propanediol dicaprylyl carbonate glycerin pentylene glycol sodium hyaluronate hyd...</td>\n",
       "      <td>water aqua eau cyclopentasiloxane isopropyl palmitate c14 22 alcohols polymethylsilsesquioxane d...</td>\n",
       "    </tr>\n",
       "    <tr>\n",
       "      <th>vectorized_features_glove</th>\n",
       "      <td>[-0.1909807, 0.21728708, 0.063824415, -0.09881957, -0.1294178, 0.29103935, -0.16182004, 0.041187...</td>\n",
       "      <td>[-0.2007592, 0.18091148, 0.016441643, -0.12368103, -0.18935207, 0.16839498, -0.18683685, 0.11725...</td>\n",
       "      <td>[-0.19948438, 0.109405495, -0.016978933, -0.05321018, -0.23000163, 0.08242865, -0.09035488, 0.12...</td>\n",
       "      <td>[-0.16096152, 0.1353347, 0.0015462068, -0.03779596, -0.19740348, 0.16779856, -0.28631714, 0.2497...</td>\n",
       "      <td>[-0.22409232, 0.1372577, -0.024697045, -0.04310343, -0.15350178, 0.27084374, -0.07375035, 0.1545...</td>\n",
       "    </tr>\n",
       "    <tr>\n",
       "      <th>vectorized_features_w2v</th>\n",
       "      <td>[-0.025286864, 0.04773051, 0.00082256, 0.05296351, -0.11717987, 0.0034599304, 0.041460164, -0.15...</td>\n",
       "      <td>[-0.05279678, 0.100673035, 0.004677933, 0.080512166, -0.08585795, 0.025877278, 0.008998057, -0.1...</td>\n",
       "      <td>[-0.018925477, 0.11361898, 0.0039180755, 0.039836273, -0.077773795, 0.008910879, -0.0038208007, ...</td>\n",
       "      <td>[-0.0947309, 0.082422346, 0.046553873, 0.033076715, -0.15074053, -0.0037631989, -0.019455997, -0...</td>\n",
       "      <td>[-0.075490214, 0.063881546, 0.043978788, 0.03898683, -0.12316739, 0.017027408, -0.009806263, -0....</td>\n",
       "    </tr>\n",
       "  </tbody>\n",
       "</table>\n",
       "</div>"
      ],
      "text/plain": [
       "                                                                                                                                   0  \\\n",
       "product_id                                                                                                                   P503052   \n",
       "product_name                                                                             Mini Flatter Me Digestive Enzyme Supplement   \n",
       "brand_name                                                                                                             HUM Nutrition   \n",
       "average_rating                                                                                                                4.2643   \n",
       "price_usd                                                                                                                       15.0   \n",
       "author_id                                                                                                                27517179462   \n",
       "calibrated_author_rating                                                                                                         5.0   \n",
       "multicriteria_combined_features  protease 3 0 protease 4 5 protease 6 0 peptidase bromelain neutral bacterial protease papain bre...   \n",
       "vectorized_features_glove        [-0.1909807, 0.21728708, 0.063824415, -0.09881957, -0.1294178, 0.29103935, -0.16182004, 0.041187...   \n",
       "vectorized_features_w2v          [-0.025286864, 0.04773051, 0.00082256, 0.05296351, -0.11717987, 0.0034599304, 0.041460164, -0.15...   \n",
       "\n",
       "                                                                                                                                   1  \\\n",
       "product_id                                                                                                                   P423688   \n",
       "product_name                                                                                           Daily Microfoliant Exfoliator   \n",
       "brand_name                                                                                                               Dermalogica   \n",
       "average_rating                                                                                                                 4.696   \n",
       "price_usd                                                                                                                       65.0   \n",
       "author_id                                                                                                                11109420515   \n",
       "calibrated_author_rating                                                                                                         5.0   \n",
       "multicriteria_combined_features  microcrystalline cellulose magnesium oxide sodium cocoyl isethionate colloidal oatmeal disodium ...   \n",
       "vectorized_features_glove        [-0.2007592, 0.18091148, 0.016441643, -0.12368103, -0.18935207, 0.16839498, -0.18683685, 0.11725...   \n",
       "vectorized_features_w2v          [-0.05279678, 0.100673035, 0.004677933, 0.080512166, -0.08585795, 0.025877278, 0.008998057, -0.1...   \n",
       "\n",
       "                                                                                                                                   2  \\\n",
       "product_id                                                                                                                   P504045   \n",
       "product_name                                                                   Daily Dose Bioretinol + Mineral SPF 40 with Bakuchiol   \n",
       "brand_name                                                                                                                Supergoop!   \n",
       "average_rating                                                                                                                4.7357   \n",
       "price_usd                                                                                                                       46.0   \n",
       "author_id                                                                                                                22705593305   \n",
       "calibrated_author_rating                                                                                                         5.0   \n",
       "multicriteria_combined_features  aqua water eau dicaprylyl ether caprylic capric triglyceride butyloctyl salicylate polyglyceryl ...   \n",
       "vectorized_features_glove        [-0.19948438, 0.109405495, -0.016978933, -0.05321018, -0.23000163, 0.08242865, -0.09035488, 0.12...   \n",
       "vectorized_features_w2v          [-0.018925477, 0.11361898, 0.0039180755, 0.039836273, -0.077773795, 0.008910879, -0.0038208007, ...   \n",
       "\n",
       "                                                                                                                                   3  \\\n",
       "product_id                                                                                                                   P479125   \n",
       "product_name                                                                                       Mini Cloud Dew Oil-Free Gel Cream   \n",
       "brand_name                                                                                                            Summer Fridays   \n",
       "average_rating                                                                                                                4.4613   \n",
       "price_usd                                                                                                                       17.0   \n",
       "author_id                                                                                                                20430950197   \n",
       "calibrated_author_rating                                                                                                         5.0   \n",
       "multicriteria_combined_features  water aqua eau propanediol dicaprylyl carbonate glycerin pentylene glycol sodium hyaluronate hyd...   \n",
       "vectorized_features_glove        [-0.16096152, 0.1353347, 0.0015462068, -0.03779596, -0.19740348, 0.16779856, -0.28631714, 0.2497...   \n",
       "vectorized_features_w2v          [-0.0947309, 0.082422346, 0.046553873, 0.033076715, -0.15074053, -0.0037631989, -0.019455997, -0...   \n",
       "\n",
       "                                                                                                                                   4  \n",
       "product_id                                                                                                                   P440650  \n",
       "product_name                                                                                        Mini Retinol Youth Renewal Serum  \n",
       "brand_name                                                                                                                     Murad  \n",
       "average_rating                                                                                                                4.6089  \n",
       "price_usd                                                                                                                       32.0  \n",
       "author_id                                                                                                                 5967382859  \n",
       "calibrated_author_rating                                                                                                         5.0  \n",
       "multicriteria_combined_features  water aqua eau cyclopentasiloxane isopropyl palmitate c14 22 alcohols polymethylsilsesquioxane d...  \n",
       "vectorized_features_glove        [-0.22409232, 0.1372577, -0.024697045, -0.04310343, -0.15350178, 0.27084374, -0.07375035, 0.1545...  \n",
       "vectorized_features_w2v          [-0.075490214, 0.063881546, 0.043978788, 0.03898683, -0.12316739, 0.017027408, -0.009806263, -0....  "
      ]
     },
     "execution_count": 20,
     "metadata": {},
     "output_type": "execute_result"
    }
   ],
   "source": [
    "# Display the first 5 rows of skincare_reviews\n",
    "skincare_reviews.head().transpose()\n"
   ]
  },
  {
   "cell_type": "markdown",
   "metadata": {},
   "source": [
    "## **4.2 Advanced Contextual Embeddings**"
   ]
  },
  {
   "cell_type": "markdown",
   "metadata": {},
   "source": [
    "### **4.2.1 Bidirectional Encoder Representations from Transformers (BERT)**"
   ]
  },
  {
   "cell_type": "code",
   "execution_count": null,
   "metadata": {},
   "outputs": [],
   "source": []
  },
  {
   "cell_type": "code",
   "execution_count": null,
   "metadata": {},
   "outputs": [],
   "source": []
  },
  {
   "cell_type": "code",
   "execution_count": null,
   "metadata": {},
   "outputs": [],
   "source": []
  },
  {
   "cell_type": "code",
   "execution_count": null,
   "metadata": {},
   "outputs": [],
   "source": []
  },
  {
   "cell_type": "markdown",
   "metadata": {},
   "source": [
    "# **5.0 Export Processed Data**"
   ]
  },
  {
   "cell_type": "markdown",
   "metadata": {},
   "source": [
    "## **5.1 Export for Content-Based Filtering**"
   ]
  },
  {
   "cell_type": "code",
   "execution_count": 21,
   "metadata": {},
   "outputs": [],
   "source": [
    "# Drop the column that are no longer needed (as the multicriteria_combined_features has been vectorized)\n",
    "skincare_reviews.drop(columns=[\"multicriteria_combined_features\"], inplace=True)\n"
   ]
  },
  {
   "cell_type": "code",
   "execution_count": 22,
   "metadata": {},
   "outputs": [],
   "source": [
    "# Save the vectorized skincare_reviews dataframe to a feather file\n",
    "skincare_reviews.to_feather(\"processed_data/skincare_reviews_cbf.feather\")\n"
   ]
  },
  {
   "cell_type": "markdown",
   "metadata": {},
   "source": [
    "## **5.2 Export for Collaborative Filtering**"
   ]
  },
  {
   "cell_type": "code",
   "execution_count": 23,
   "metadata": {},
   "outputs": [],
   "source": [
    "# Drop the vectorized columns (as rating are only needed for collaborative filtering)\n",
    "skincare_reviews.drop(columns=[\"vectorized_features_glove\", \"vectorized_features_w2v\"], inplace=True)\n"
   ]
  },
  {
   "cell_type": "code",
   "execution_count": 24,
   "metadata": {},
   "outputs": [],
   "source": [
    "# Save the skincare_reviews with no vectorized columns to a feather file\n",
    "skincare_reviews.to_feather(\"processed_data/skincare_reviews_cf.feather\")\n"
   ]
  },
  {
   "cell_type": "markdown",
   "metadata": {},
   "source": [
    "<blockquote style=\"background-color: yellow; color: black;\"><strong>End of Part 3</strong></blockquote>\n"
   ]
  },
  {
   "cell_type": "code",
   "execution_count": 25,
   "metadata": {},
   "outputs": [
    {
     "name": "stdout",
     "output_type": "stream",
     "text": [
      "Start Time      : 2024-04-19 06:35:41\n",
      "End Time        : 2024-04-19 06:38:48\n",
      "Execution Time  : 0h 3m 6s\n"
     ]
    }
   ],
   "source": [
    "# Calculate the overall execution time\n",
    "end_time = datetime.now()\n",
    "execution_time = end_time - start_time\n",
    "hours, remainder = divmod(execution_time.total_seconds(), 3600)\n",
    "minutes, seconds = divmod(remainder, 60)\n",
    "\n",
    "# Display the overall execution time\n",
    "print(f\"Start Time      : {start_time.strftime('%Y-%m-%d %H:%M:%S')}\")\n",
    "print(f\"End Time        : {end_time.strftime('%Y-%m-%d %H:%M:%S')}\")\n",
    "print(f\"Execution Time  : {int(hours)}h {int(minutes)}m {int(seconds)}s\")\n"
   ]
  },
  {
   "cell_type": "code",
   "execution_count": null,
   "metadata": {},
   "outputs": [],
   "source": []
  }
 ],
 "metadata": {
  "kernelspec": {
   "display_name": "venv",
   "language": "python",
   "name": "python3"
  },
  "language_info": {
   "codemirror_mode": {
    "name": "ipython",
    "version": 3
   },
   "file_extension": ".py",
   "mimetype": "text/x-python",
   "name": "python",
   "nbconvert_exporter": "python",
   "pygments_lexer": "ipython3",
   "version": "3.10.11"
  }
 },
 "nbformat": 4,
 "nbformat_minor": 2
}
